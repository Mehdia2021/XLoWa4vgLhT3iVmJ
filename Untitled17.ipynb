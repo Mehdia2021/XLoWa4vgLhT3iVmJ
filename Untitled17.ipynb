{
  "nbformat": 4,
  "nbformat_minor": 0,
  "metadata": {
    "colab": {
      "name": "Untitled17.ipynb",
      "provenance": [],
      "collapsed_sections": []
    },
    "kernelspec": {
      "name": "python3",
      "display_name": "Python 3"
    }
  },
  "cells": [
    {
      "cell_type": "code",
      "metadata": {
        "id": "_I6xLaq9HHRT"
      },
      "source": [
        "import numpy as np\r\n",
        "import pandas as pd\r\n",
        "import matplotlib.pyplot as plt\r\n",
        "from keras.datasets import imdb\r\n",
        "from keras.models import Sequential\r\n",
        "from keras.layers import Dense\r\n",
        "from keras.layers import LSTM\r\n",
        "from keras.layers import Dropout\r\n",
        "from keras.layers import Conv1D, MaxPooling1D\r\n",
        "from keras.layers.embeddings import Embedding\r\n",
        "from keras.preprocessing import sequence\r\n",
        "from keras.callbacks import EarlyStopping\r\n",
        "from keras.preprocessing.text import text_to_word_sequence, Tokenizer\r\n",
        "import time\r\n",
        "import numpy as np \r\n",
        "import pandas as pd \r\n",
        "import matplotlib.pyplot as plt\r\n",
        "from matplotlib.pyplot import figure\r\n",
        "import seaborn as sns\r\n",
        "from sklearn import preprocessing\r\n",
        "from sklearn.preprocessing import LabelEncoder\r\n",
        "from sklearn.preprocessing import StandardScaler\r\n",
        "from sklearn.model_selection import train_test_split\r\n",
        "from sklearn.metrics import classification_report,confusion_matrix\r\n",
        "from sklearn.ensemble import RandomForestClassifier\r\n",
        "np.random.seed(7)\r\n",
        "%matplotlib inline\r\n",
        "import numpy as np\r\n",
        "import pandas as pd\r\n",
        "from sklearn.model_selection import train_test_split\r\n",
        "from sklearn import tree\r\n",
        "import matplotlib.pyplot as plt\r\n",
        "from scipy.stats import zscore\r\n",
        "\r\n",
        "from sklearn.preprocessing import StandardScaler, LabelEncoder\r\n",
        "from sklearn.metrics import accuracy_score\r\n",
        "import seaborn as sns\r\n",
        "import warnings\r\n",
        "import itertools\r\n",
        "import matplotlib.patches as mpatches\r\n",
        "warnings.filterwarnings(\"ignore\", category=FutureWarning)\r\n",
        "plt.style.use('fivethirtyeight')"
      ],
      "execution_count": null,
      "outputs": []
    },
    {
      "cell_type": "code",
      "metadata": {
        "colab": {
          "base_uri": "https://localhost:8080/",
          "height": 204
        },
        "id": "LsRnrzezHPcZ",
        "outputId": "59147b5f-0ce7-452f-af66-e20280e21236"
      },
      "source": [
        "data = pd.read_csv('/content/term-deposit-marketing-2020.csv')\r\n",
        "from sklearn.preprocessing import LabelEncoder\r\n",
        "labelencoder = LabelEncoder()\r\n",
        "\r\n",
        "data['job'] = labelencoder.fit_transform(data['job'])\r\n",
        "data['marital'] = labelencoder.fit_transform(data['marital'])\r\n",
        "data['education'] = labelencoder.fit_transform(data['education'])\r\n",
        "data['default'] = labelencoder.fit_transform(data['default'])\r\n",
        "data['housing'] = labelencoder.fit_transform(data['housing'])\r\n",
        "data['loan'] = labelencoder.fit_transform(data['loan'])\r\n",
        "data['contact'] = labelencoder.fit_transform(data['contact'])\r\n",
        "data['month'] = labelencoder.fit_transform(data['month'])\r\n",
        "data['y'] = labelencoder.fit_transform(data['y'])\r\n",
        "\r\n",
        "data.head()"
      ],
      "execution_count": null,
      "outputs": [
        {
          "output_type": "execute_result",
          "data": {
            "text/html": [
              "<div>\n",
              "<style scoped>\n",
              "    .dataframe tbody tr th:only-of-type {\n",
              "        vertical-align: middle;\n",
              "    }\n",
              "\n",
              "    .dataframe tbody tr th {\n",
              "        vertical-align: top;\n",
              "    }\n",
              "\n",
              "    .dataframe thead th {\n",
              "        text-align: right;\n",
              "    }\n",
              "</style>\n",
              "<table border=\"1\" class=\"dataframe\">\n",
              "  <thead>\n",
              "    <tr style=\"text-align: right;\">\n",
              "      <th></th>\n",
              "      <th>age</th>\n",
              "      <th>job</th>\n",
              "      <th>marital</th>\n",
              "      <th>education</th>\n",
              "      <th>default</th>\n",
              "      <th>balance</th>\n",
              "      <th>housing</th>\n",
              "      <th>loan</th>\n",
              "      <th>contact</th>\n",
              "      <th>day</th>\n",
              "      <th>month</th>\n",
              "      <th>duration</th>\n",
              "      <th>campaign</th>\n",
              "      <th>y</th>\n",
              "    </tr>\n",
              "  </thead>\n",
              "  <tbody>\n",
              "    <tr>\n",
              "      <th>0</th>\n",
              "      <td>58</td>\n",
              "      <td>4</td>\n",
              "      <td>1</td>\n",
              "      <td>2</td>\n",
              "      <td>0</td>\n",
              "      <td>2143</td>\n",
              "      <td>1</td>\n",
              "      <td>0</td>\n",
              "      <td>2</td>\n",
              "      <td>5</td>\n",
              "      <td>8</td>\n",
              "      <td>261</td>\n",
              "      <td>1</td>\n",
              "      <td>0</td>\n",
              "    </tr>\n",
              "    <tr>\n",
              "      <th>1</th>\n",
              "      <td>44</td>\n",
              "      <td>9</td>\n",
              "      <td>2</td>\n",
              "      <td>1</td>\n",
              "      <td>0</td>\n",
              "      <td>29</td>\n",
              "      <td>1</td>\n",
              "      <td>0</td>\n",
              "      <td>2</td>\n",
              "      <td>5</td>\n",
              "      <td>8</td>\n",
              "      <td>151</td>\n",
              "      <td>1</td>\n",
              "      <td>0</td>\n",
              "    </tr>\n",
              "    <tr>\n",
              "      <th>2</th>\n",
              "      <td>33</td>\n",
              "      <td>2</td>\n",
              "      <td>1</td>\n",
              "      <td>1</td>\n",
              "      <td>0</td>\n",
              "      <td>2</td>\n",
              "      <td>1</td>\n",
              "      <td>1</td>\n",
              "      <td>2</td>\n",
              "      <td>5</td>\n",
              "      <td>8</td>\n",
              "      <td>76</td>\n",
              "      <td>1</td>\n",
              "      <td>0</td>\n",
              "    </tr>\n",
              "    <tr>\n",
              "      <th>3</th>\n",
              "      <td>47</td>\n",
              "      <td>1</td>\n",
              "      <td>1</td>\n",
              "      <td>3</td>\n",
              "      <td>0</td>\n",
              "      <td>1506</td>\n",
              "      <td>1</td>\n",
              "      <td>0</td>\n",
              "      <td>2</td>\n",
              "      <td>5</td>\n",
              "      <td>8</td>\n",
              "      <td>92</td>\n",
              "      <td>1</td>\n",
              "      <td>0</td>\n",
              "    </tr>\n",
              "    <tr>\n",
              "      <th>4</th>\n",
              "      <td>33</td>\n",
              "      <td>11</td>\n",
              "      <td>2</td>\n",
              "      <td>3</td>\n",
              "      <td>0</td>\n",
              "      <td>1</td>\n",
              "      <td>0</td>\n",
              "      <td>0</td>\n",
              "      <td>2</td>\n",
              "      <td>5</td>\n",
              "      <td>8</td>\n",
              "      <td>198</td>\n",
              "      <td>1</td>\n",
              "      <td>0</td>\n",
              "    </tr>\n",
              "  </tbody>\n",
              "</table>\n",
              "</div>"
            ],
            "text/plain": [
              "   age  job  marital  education  default  ...  day  month  duration  campaign  y\n",
              "0   58    4        1          2        0  ...    5      8       261         1  0\n",
              "1   44    9        2          1        0  ...    5      8       151         1  0\n",
              "2   33    2        1          1        0  ...    5      8        76         1  0\n",
              "3   47    1        1          3        0  ...    5      8        92         1  0\n",
              "4   33   11        2          3        0  ...    5      8       198         1  0\n",
              "\n",
              "[5 rows x 14 columns]"
            ]
          },
          "metadata": {
            "tags": []
          },
          "execution_count": 92
        }
      ]
    },
    {
      "cell_type": "code",
      "metadata": {
        "id": "GdjZ0OlBMz6D"
      },
      "source": [
        ""
      ],
      "execution_count": null,
      "outputs": []
    },
    {
      "cell_type": "code",
      "metadata": {
        "colab": {
          "base_uri": "https://localhost:8080/",
          "height": 304
        },
        "id": "F0DB4EiQMDHH",
        "outputId": "d226f97f-9720-4cfe-dc58-48310972f35e"
      },
      "source": [
        "sns.countplot(x='y', data=data)\r\n",
        "from sklearn.model_selection import train_test_split\r\n",
        "X=data.iloc[:,0:13]\r\n",
        "y=data.iloc[:,13]\r\n",
        "X_train, X_test, y_train, y_test = train_test_split( X, y, test_size=0.33, random_state=42)"
      ],
      "execution_count": null,
      "outputs": [
        {
          "output_type": "display_data",
          "data": {
            "image/png": "[encoded data removed]",
            "text/plain": [
              "<Figure size 432x288 with 1 Axes>"
            ]
          },
          "metadata": {
            "tags": []
          }
        }
      ]
    },
    {
      "cell_type": "code",
      "metadata": {
        "colab": {
          "base_uri": "https://localhost:8080/"
        },
        "id": "FtDbBAC3MZj1",
        "outputId": "26fc0e41-20ad-4a96-c70b-d9d7c82e1fc5"
      },
      "source": [
        "\r\n",
        "import numpy as np\r\n",
        "import pandas as pd\r\n",
        "import os\r\n",
        "\r\n",
        "from numpy import mean\r\n",
        "from numpy import std\r\n",
        "from sklearn.model_selection import KFold, StratifiedKFold\r\n",
        "import tensorflow as tf\r\n",
        "from sklearn.linear_model import LogisticRegression\r\n",
        "cv = KFold(n_splits=5, random_state=1, shuffle=True)\r\n",
        "\r\n",
        "model = LogisticRegression()\r\n",
        "\r\n",
        "scores = cross_val_score(model, X_train, y_train, scoring='accuracy', cv=cv, n_jobs=-1)\r\n",
        "\r\n",
        "print('Accuracy: %.3f ' % (mean(scores *100)))"
      ],
      "execution_count": null,
      "outputs": [
        {
          "output_type": "stream",
          "text": [
            "Accuracy: 93.228 \n"
          ],
          "name": "stdout"
        }
      ]
    },
    {
      "cell_type": "code",
      "metadata": {
        "colab": {
          "base_uri": "https://localhost:8080/"
        },
        "id": "MGqFt67cVZJt",
        "outputId": "967766b1-bb02-4a3d-a66d-96b96dc1966e"
      },
      "source": [
        "model = LogisticRegression(random_state=0).fit(X_train, y_train)\r\n",
        "y_predict=model.predict(X_test)\r\n",
        "from sklearn.metrics import *\r\n",
        "print(classification_report(y_test, y_predict))\r\n",
        "print(accuracy_score(y_test,y_predict))"
      ],
      "execution_count": null,
      "outputs": [
        {
          "output_type": "stream",
          "text": [
            "              precision    recall  f1-score   support\n",
            "\n",
            "           0       0.94      0.99      0.96     12236\n",
            "           1       0.63      0.20      0.30       964\n",
            "\n",
            "    accuracy                           0.93     13200\n",
            "   macro avg       0.78      0.59      0.63     13200\n",
            "weighted avg       0.92      0.93      0.92     13200\n",
            "\n",
            "0.9327272727272727\n"
          ],
          "name": "stdout"
        },
        {
          "output_type": "stream",
          "text": [
            "/usr/local/lib/python3.6/dist-packages/sklearn/linear_model/_logistic.py:940: ConvergenceWarning: lbfgs failed to converge (status=1):\n",
            "STOP: TOTAL NO. of ITERATIONS REACHED LIMIT.\n",
            "\n",
            "Increase the number of iterations (max_iter) or scale the data as shown in:\n",
            "    https://scikit-learn.org/stable/modules/preprocessing.html\n",
            "Please also refer to the documentation for alternative solver options:\n",
            "    https://scikit-learn.org/stable/modules/linear_model.html#logistic-regression\n",
            "  extra_warning_msg=_LOGISTIC_SOLVER_CONVERGENCE_MSG)\n"
          ],
          "name": "stderr"
        }
      ]
    },
    {
      "cell_type": "code",
      "metadata": {
        "colab": {
          "base_uri": "https://localhost:8080/",
          "height": 452
        },
        "id": "RlbSHpnGmRUy",
        "outputId": "e455bcdd-c675-4abe-8889-b6a272098318"
      },
      "source": [
        "from sklearn.linear_model import LogisticRegression\r\n",
        "from sklearn.preprocessing import StandardScaler\r\n",
        "\r\n",
        "scaler  = StandardScaler()\r\n",
        "scaler.fit(X_train)\r\n",
        "\r\n",
        "X_train_tf = scaler.transform(X_train)\r\n",
        "\r\n",
        "lr=LogisticRegression(random_state = 42)\r\n",
        "\r\n",
        "col1=[]\r\n",
        "for col in data.columns:\r\n",
        "  col1.append(col)\r\n",
        "del col1[-1]\r\n",
        "\r\n",
        "cols_all_cat=list(col1)\r\n",
        "\r\n",
        "lr.fit(X_train_tf, y_train)\r\n",
        "priority = pd.DataFrame(lr.coef_[0],index=cols_all_cat,columns=['priority']).sort_values('priority',\r\n",
        "                                                                        ascending=False)\r\n",
        "priority"
      ],
      "execution_count": 112,
      "outputs": [
        {
          "output_type": "execute_result",
          "data": {
            "text/html": [
              "<div>\n",
              "<style scoped>\n",
              "    .dataframe tbody tr th:only-of-type {\n",
              "        vertical-align: middle;\n",
              "    }\n",
              "\n",
              "    .dataframe tbody tr th {\n",
              "        vertical-align: top;\n",
              "    }\n",
              "\n",
              "    .dataframe thead th {\n",
              "        text-align: right;\n",
              "    }\n",
              "</style>\n",
              "<table border=\"1\" class=\"dataframe\">\n",
              "  <thead>\n",
              "    <tr style=\"text-align: right;\">\n",
              "      <th></th>\n",
              "      <th>priority</th>\n",
              "    </tr>\n",
              "  </thead>\n",
              "  <tbody>\n",
              "    <tr>\n",
              "      <th>duration</th>\n",
              "      <td>1.126558</td>\n",
              "    </tr>\n",
              "    <tr>\n",
              "      <th>education</th>\n",
              "      <td>0.120088</td>\n",
              "    </tr>\n",
              "    <tr>\n",
              "      <th>marital</th>\n",
              "      <td>0.075047</td>\n",
              "    </tr>\n",
              "    <tr>\n",
              "      <th>balance</th>\n",
              "      <td>0.054619</td>\n",
              "    </tr>\n",
              "    <tr>\n",
              "      <th>day</th>\n",
              "      <td>0.020040</td>\n",
              "    </tr>\n",
              "    <tr>\n",
              "      <th>default</th>\n",
              "      <td>0.018996</td>\n",
              "    </tr>\n",
              "    <tr>\n",
              "      <th>job</th>\n",
              "      <td>0.005414</td>\n",
              "    </tr>\n",
              "    <tr>\n",
              "      <th>month</th>\n",
              "      <td>-0.018916</td>\n",
              "    </tr>\n",
              "    <tr>\n",
              "      <th>age</th>\n",
              "      <td>-0.031696</td>\n",
              "    </tr>\n",
              "    <tr>\n",
              "      <th>loan</th>\n",
              "      <td>-0.162538</td>\n",
              "    </tr>\n",
              "    <tr>\n",
              "      <th>campaign</th>\n",
              "      <td>-0.253097</td>\n",
              "    </tr>\n",
              "    <tr>\n",
              "      <th>housing</th>\n",
              "      <td>-0.267519</td>\n",
              "    </tr>\n",
              "    <tr>\n",
              "      <th>contact</th>\n",
              "      <td>-0.457261</td>\n",
              "    </tr>\n",
              "  </tbody>\n",
              "</table>\n",
              "</div>"
            ],
            "text/plain": [
              "           priority\n",
              "duration   1.126558\n",
              "education  0.120088\n",
              "marital    0.075047\n",
              "balance    0.054619\n",
              "day        0.020040\n",
              "default    0.018996\n",
              "job        0.005414\n",
              "month     -0.018916\n",
              "age       -0.031696\n",
              "loan      -0.162538\n",
              "campaign  -0.253097\n",
              "housing   -0.267519\n",
              "contact   -0.457261"
            ]
          },
          "metadata": {
            "tags": []
          },
          "execution_count": 112
        }
      ]
    },
    {
      "cell_type": "code",
      "metadata": {
        "colab": {
          "base_uri": "https://localhost:8080/"
        },
        "id": "3MNd2hfF045P",
        "outputId": "9341a7d1-d30a-44fb-ab82-6b6e83ef4451"
      },
      "source": [
        "from sklearn.svm import LinearSVC\r\n",
        "from sklearn.datasets import load_iris\r\n",
        "#best feature\r\n",
        "from sklearn.feature_selection import SelectFromModel\r\n",
        "lsvc = LinearSVC(C=0.01, penalty=\"l1\", dual=False).fit(X, y)\r\n",
        "model = SelectFromModel(lsvc, prefit=True)\r\n",
        "X_new = model.transform(X)\r\n",
        "X_new"
      ],
      "execution_count": 113,
      "outputs": [
        {
          "output_type": "execute_result",
          "data": {
            "text/plain": [
              "array([[ 58,   4,   1, ...,   8, 261,   1],\n",
              "       [ 44,   9,   2, ...,   8, 151,   1],\n",
              "       [ 33,   2,   1, ...,   8,  76,   1],\n",
              "       ...,\n",
              "       [ 54,   0,   0, ...,   6, 170,   1],\n",
              "       [ 34,   4,   1, ...,   6, 342,   1],\n",
              "       [ 38,   9,   1, ...,   6, 113,   1]])"
            ]
          },
          "metadata": {
            "tags": []
          },
          "execution_count": 113
        }
      ]
    }
  ]
}